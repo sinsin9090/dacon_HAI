{
 "metadata": {
  "language_info": {
   "codemirror_mode": {
    "name": "ipython",
    "version": 3
   },
   "file_extension": ".py",
   "mimetype": "text/x-python",
   "name": "python",
   "nbconvert_exporter": "python",
   "pygments_lexer": "ipython3",
   "version": "3.7.6-final"
  },
  "orig_nbformat": 2,
  "kernelspec": {
   "name": "python3",
   "display_name": "Python 3"
  }
 },
 "nbformat": 4,
 "nbformat_minor": 2,
 "cells": [
  {
   "cell_type": "code",
   "execution_count": 1,
   "metadata": {},
   "outputs": [],
   "source": [
    "import pandas as pd"
   ]
  },
  {
   "cell_type": "code",
   "execution_count": 2,
   "metadata": {},
   "outputs": [],
   "source": [
    "import numpy as np\n",
    "import sys\n",
    "sys.setrecursionlimit(9999)"
   ]
  },
  {
   "cell_type": "code",
   "execution_count": 3,
   "metadata": {},
   "outputs": [],
   "source": [
    "import glob"
   ]
  },
  {
   "cell_type": "code",
   "execution_count": 4,
   "metadata": {},
   "outputs": [],
   "source": [
    "csv_list = glob.glob('*.csv')"
   ]
  },
  {
   "cell_type": "code",
   "execution_count": 5,
   "metadata": {},
   "outputs": [
    {
     "output_type": "execute_result",
     "data": {
      "text/plain": "['train1.csv', 'train2.csv', 'test2.csv', 'test1.csv']"
     },
     "metadata": {},
     "execution_count": 5
    }
   ],
   "source": [
    "csv_list"
   ]
  },
  {
   "cell_type": "code",
   "execution_count": 6,
   "metadata": {},
   "outputs": [],
   "source": [
    "train1 = pd.read_csv(csv_list[0]).rename(columns=lambda x: x.strip())\n",
    "train2 = pd.read_csv(csv_list[1]).rename(columns=lambda x: x.strip())\n",
    "test1 = pd.read_csv(csv_list[2]).rename(columns=lambda x: x.strip())\n",
    "test2 = pd.read_csv(csv_list[3]).rename(columns=lambda x: x.strip())\n"
   ]
  },
  {
   "cell_type": "code",
   "execution_count": 7,
   "metadata": {},
   "outputs": [],
   "source": [
    "df = pd.concat([train1, train2, test1, test2])"
   ]
  },
  {
   "cell_type": "code",
   "execution_count": 8,
   "metadata": {},
   "outputs": [
    {
     "output_type": "execute_result",
     "data": {
      "text/plain": "0    977097\n1     18303\nName: attack, dtype: int64"
     },
     "metadata": {},
     "execution_count": 8
    }
   ],
   "source": [
    "df['attack'].value_counts()"
   ]
  },
  {
   "cell_type": "code",
   "execution_count": 9,
   "metadata": {},
   "outputs": [],
   "source": [
    "df= df[df.columns[:-3]]"
   ]
  },
  {
   "cell_type": "code",
   "execution_count": 10,
   "metadata": {},
   "outputs": [],
   "source": [
    "from sklearn.preprocessing import MinMaxScaler"
   ]
  },
  {
   "cell_type": "code",
   "execution_count": 11,
   "metadata": {},
   "outputs": [],
   "source": [
    "scaler =MinMaxScaler()\n",
    "df_scaled = scaler.fit_transform(df[df.columns[1:]])"
   ]
  },
  {
   "cell_type": "code",
   "execution_count": 12,
   "metadata": {},
   "outputs": [],
   "source": [
    "df_scaled = pd.DataFrame(df_scaled, columns= df.columns[1:])"
   ]
  },
  {
   "cell_type": "code",
   "execution_count": 13,
   "metadata": {},
   "outputs": [
    {
     "output_type": "execute_result",
     "data": {
      "text/plain": "            P1_B2004       P1_B2016       P1_B3004       P1_B3005  \\\ncount  995400.000000  995400.000000  995400.000000  995400.000000   \nmean        0.673663       0.582779       0.172135       0.804035   \nstd         0.443831       0.089683       0.259547       0.227898   \nmin         0.000000       0.000000       0.000000       0.000000   \n25%         0.024793       0.507810       0.026403       0.806023   \n50%         0.965565       0.595683       0.085856       0.864344   \n75%         0.982094       0.648416       0.134640       0.936706   \nmax         1.000000       1.000000       1.000000       1.000000   \n\n            P1_B4002       P1_B4005       P1_B400B       P1_B4022  \\\ncount  995400.000000  995400.000000  995400.000000  995400.000000   \nmean        0.843027       0.421065       0.442127       0.691731   \nstd         0.137824       0.409852       0.419132       0.104758   \nmin         0.000000       0.000000       0.000000       0.000000   \n25%         0.875635       0.004307       0.008615       0.663262   \n50%         0.875635       0.280403       0.313058       0.707160   \n75%         0.875635       0.920643       0.982998       0.746681   \nmax         1.000000       1.000000       1.000000       1.000000   \n\n           P1_FCV01D      P1_FCV01Z  ...       P4_HT_PO  P4_HT_PS  \\\ncount  995400.000000  995400.000000  ...  995400.000000  995400.0   \nmean        0.351277       0.344975  ...       0.434070       0.0   \nstd         0.384704       0.383790  ...       0.377434       0.0   \nmin         0.000000       0.000000  ...       0.000000       0.0   \n25%         0.050604       0.043954  ...       0.009345       0.0   \n50%         0.160079       0.154411  ...       0.455988       0.0   \n75%         0.730194       0.722650  ...       0.813084       0.0   \nmax         1.000000       1.000000  ...       1.000000       0.0   \n\n               P4_LD       P4_ST_FD       P4_ST_LD       P4_ST_PO  \\\ncount  995400.000000  995400.000000  995400.000000  995400.000000   \nmean        0.505838       0.493686       0.386321       0.407474   \nstd         0.223938       0.017455       0.131427       0.127251   \nmin         0.000000       0.000000       0.000000       0.000000   \n25%         0.328569       0.482726       0.297511       0.333559   \n50%         0.498087       0.493464       0.388642       0.407574   \n75%         0.684652       0.505135       0.475671       0.484671   \nmax         1.000000       1.000000       1.000000       1.000000   \n\n            P4_ST_PS     P4_ST_PT01     P4_ST_TT01         attack  \ncount  995400.000000  995400.000000  995400.000000  995400.000000  \nmean        0.259417       0.019177       0.998178       0.018388  \nstd         0.425331       0.002485       0.002532       0.134348  \nmin         0.000000       0.000000       0.000000       0.000000  \n25%         0.000000       0.016982       0.996942       0.000000  \n50%         0.000000       0.019878       0.999276       0.000000  \n75%         0.938022       0.020267       0.999920       0.000000  \nmax         1.000000       1.000000       1.000000       1.000000  \n\n[8 rows x 60 columns]",
      "text/html": "<div>\n<style scoped>\n    .dataframe tbody tr th:only-of-type {\n        vertical-align: middle;\n    }\n\n    .dataframe tbody tr th {\n        vertical-align: top;\n    }\n\n    .dataframe thead th {\n        text-align: right;\n    }\n</style>\n<table border=\"1\" class=\"dataframe\">\n  <thead>\n    <tr style=\"text-align: right;\">\n      <th></th>\n      <th>P1_B2004</th>\n      <th>P1_B2016</th>\n      <th>P1_B3004</th>\n      <th>P1_B3005</th>\n      <th>P1_B4002</th>\n      <th>P1_B4005</th>\n      <th>P1_B400B</th>\n      <th>P1_B4022</th>\n      <th>P1_FCV01D</th>\n      <th>P1_FCV01Z</th>\n      <th>...</th>\n      <th>P4_HT_PO</th>\n      <th>P4_HT_PS</th>\n      <th>P4_LD</th>\n      <th>P4_ST_FD</th>\n      <th>P4_ST_LD</th>\n      <th>P4_ST_PO</th>\n      <th>P4_ST_PS</th>\n      <th>P4_ST_PT01</th>\n      <th>P4_ST_TT01</th>\n      <th>attack</th>\n    </tr>\n  </thead>\n  <tbody>\n    <tr>\n      <th>count</th>\n      <td>995400.000000</td>\n      <td>995400.000000</td>\n      <td>995400.000000</td>\n      <td>995400.000000</td>\n      <td>995400.000000</td>\n      <td>995400.000000</td>\n      <td>995400.000000</td>\n      <td>995400.000000</td>\n      <td>995400.000000</td>\n      <td>995400.000000</td>\n      <td>...</td>\n      <td>995400.000000</td>\n      <td>995400.0</td>\n      <td>995400.000000</td>\n      <td>995400.000000</td>\n      <td>995400.000000</td>\n      <td>995400.000000</td>\n      <td>995400.000000</td>\n      <td>995400.000000</td>\n      <td>995400.000000</td>\n      <td>995400.000000</td>\n    </tr>\n    <tr>\n      <th>mean</th>\n      <td>0.673663</td>\n      <td>0.582779</td>\n      <td>0.172135</td>\n      <td>0.804035</td>\n      <td>0.843027</td>\n      <td>0.421065</td>\n      <td>0.442127</td>\n      <td>0.691731</td>\n      <td>0.351277</td>\n      <td>0.344975</td>\n      <td>...</td>\n      <td>0.434070</td>\n      <td>0.0</td>\n      <td>0.505838</td>\n      <td>0.493686</td>\n      <td>0.386321</td>\n      <td>0.407474</td>\n      <td>0.259417</td>\n      <td>0.019177</td>\n      <td>0.998178</td>\n      <td>0.018388</td>\n    </tr>\n    <tr>\n      <th>std</th>\n      <td>0.443831</td>\n      <td>0.089683</td>\n      <td>0.259547</td>\n      <td>0.227898</td>\n      <td>0.137824</td>\n      <td>0.409852</td>\n      <td>0.419132</td>\n      <td>0.104758</td>\n      <td>0.384704</td>\n      <td>0.383790</td>\n      <td>...</td>\n      <td>0.377434</td>\n      <td>0.0</td>\n      <td>0.223938</td>\n      <td>0.017455</td>\n      <td>0.131427</td>\n      <td>0.127251</td>\n      <td>0.425331</td>\n      <td>0.002485</td>\n      <td>0.002532</td>\n      <td>0.134348</td>\n    </tr>\n    <tr>\n      <th>min</th>\n      <td>0.000000</td>\n      <td>0.000000</td>\n      <td>0.000000</td>\n      <td>0.000000</td>\n      <td>0.000000</td>\n      <td>0.000000</td>\n      <td>0.000000</td>\n      <td>0.000000</td>\n      <td>0.000000</td>\n      <td>0.000000</td>\n      <td>...</td>\n      <td>0.000000</td>\n      <td>0.0</td>\n      <td>0.000000</td>\n      <td>0.000000</td>\n      <td>0.000000</td>\n      <td>0.000000</td>\n      <td>0.000000</td>\n      <td>0.000000</td>\n      <td>0.000000</td>\n      <td>0.000000</td>\n    </tr>\n    <tr>\n      <th>25%</th>\n      <td>0.024793</td>\n      <td>0.507810</td>\n      <td>0.026403</td>\n      <td>0.806023</td>\n      <td>0.875635</td>\n      <td>0.004307</td>\n      <td>0.008615</td>\n      <td>0.663262</td>\n      <td>0.050604</td>\n      <td>0.043954</td>\n      <td>...</td>\n      <td>0.009345</td>\n      <td>0.0</td>\n      <td>0.328569</td>\n      <td>0.482726</td>\n      <td>0.297511</td>\n      <td>0.333559</td>\n      <td>0.000000</td>\n      <td>0.016982</td>\n      <td>0.996942</td>\n      <td>0.000000</td>\n    </tr>\n    <tr>\n      <th>50%</th>\n      <td>0.965565</td>\n      <td>0.595683</td>\n      <td>0.085856</td>\n      <td>0.864344</td>\n      <td>0.875635</td>\n      <td>0.280403</td>\n      <td>0.313058</td>\n      <td>0.707160</td>\n      <td>0.160079</td>\n      <td>0.154411</td>\n      <td>...</td>\n      <td>0.455988</td>\n      <td>0.0</td>\n      <td>0.498087</td>\n      <td>0.493464</td>\n      <td>0.388642</td>\n      <td>0.407574</td>\n      <td>0.000000</td>\n      <td>0.019878</td>\n      <td>0.999276</td>\n      <td>0.000000</td>\n    </tr>\n    <tr>\n      <th>75%</th>\n      <td>0.982094</td>\n      <td>0.648416</td>\n      <td>0.134640</td>\n      <td>0.936706</td>\n      <td>0.875635</td>\n      <td>0.920643</td>\n      <td>0.982998</td>\n      <td>0.746681</td>\n      <td>0.730194</td>\n      <td>0.722650</td>\n      <td>...</td>\n      <td>0.813084</td>\n      <td>0.0</td>\n      <td>0.684652</td>\n      <td>0.505135</td>\n      <td>0.475671</td>\n      <td>0.484671</td>\n      <td>0.938022</td>\n      <td>0.020267</td>\n      <td>0.999920</td>\n      <td>0.000000</td>\n    </tr>\n    <tr>\n      <th>max</th>\n      <td>1.000000</td>\n      <td>1.000000</td>\n      <td>1.000000</td>\n      <td>1.000000</td>\n      <td>1.000000</td>\n      <td>1.000000</td>\n      <td>1.000000</td>\n      <td>1.000000</td>\n      <td>1.000000</td>\n      <td>1.000000</td>\n      <td>...</td>\n      <td>1.000000</td>\n      <td>0.0</td>\n      <td>1.000000</td>\n      <td>1.000000</td>\n      <td>1.000000</td>\n      <td>1.000000</td>\n      <td>1.000000</td>\n      <td>1.000000</td>\n      <td>1.000000</td>\n      <td>1.000000</td>\n    </tr>\n  </tbody>\n</table>\n<p>8 rows × 60 columns</p>\n</div>"
     },
     "metadata": {},
     "execution_count": 13
    }
   ],
   "source": [
    "df_scaled.describe()"
   ]
  },
  {
   "cell_type": "code",
   "execution_count": 14,
   "metadata": {},
   "outputs": [],
   "source": [
    "df_scaled['time']= df['time'].tolist()"
   ]
  },
  {
   "cell_type": "code",
   "execution_count": 15,
   "metadata": {},
   "outputs": [
    {
     "output_type": "execute_result",
     "data": {
      "text/plain": "Empty DataFrame\nColumns: [P1_B2004, P1_B2016, P1_B3004, P1_B3005, P1_B4002, P1_B4005, P1_B400B, P1_B4022, P1_FCV01D, P1_FCV01Z, P1_FCV02D, P1_FCV02Z, P1_FCV03D, P1_FCV03Z, P1_FT01, P1_FT01Z, P1_FT02, P1_FT02Z, P1_FT03, P1_FT03Z, P1_LCV01D, P1_LCV01Z, P1_LIT01, P1_PCV01D, P1_PCV01Z, P1_PCV02D, P1_PCV02Z, P1_PIT01, P1_PIT02, P1_TIT01, P1_TIT02, P2_24Vdc, P2_Auto, P2_Emgy, P2_On, P2_SD01, P2_SIT01, P2_TripEx, P2_VT01e, P2_VXT02, P2_VXT03, P2_VYT02, P2_VYT03, P3_LCP01D, P3_LCV01D, P3_LH, P3_LL, P3_LT01, P4_HT_FD, P4_HT_LD, P4_HT_PO, P4_HT_PS, P4_LD, P4_ST_FD, P4_ST_LD, P4_ST_PO, P4_ST_PS, P4_ST_PT01, P4_ST_TT01, attack, time]\nIndex: []\n\n[0 rows x 61 columns]",
      "text/html": "<div>\n<style scoped>\n    .dataframe tbody tr th:only-of-type {\n        vertical-align: middle;\n    }\n\n    .dataframe tbody tr th {\n        vertical-align: top;\n    }\n\n    .dataframe thead th {\n        text-align: right;\n    }\n</style>\n<table border=\"1\" class=\"dataframe\">\n  <thead>\n    <tr style=\"text-align: right;\">\n      <th></th>\n      <th>P1_B2004</th>\n      <th>P1_B2016</th>\n      <th>P1_B3004</th>\n      <th>P1_B3005</th>\n      <th>P1_B4002</th>\n      <th>P1_B4005</th>\n      <th>P1_B400B</th>\n      <th>P1_B4022</th>\n      <th>P1_FCV01D</th>\n      <th>P1_FCV01Z</th>\n      <th>...</th>\n      <th>P4_HT_PS</th>\n      <th>P4_LD</th>\n      <th>P4_ST_FD</th>\n      <th>P4_ST_LD</th>\n      <th>P4_ST_PO</th>\n      <th>P4_ST_PS</th>\n      <th>P4_ST_PT01</th>\n      <th>P4_ST_TT01</th>\n      <th>attack</th>\n      <th>time</th>\n    </tr>\n  </thead>\n  <tbody>\n  </tbody>\n</table>\n<p>0 rows × 61 columns</p>\n</div>"
     },
     "metadata": {},
     "execution_count": 15
    }
   ],
   "source": [
    "df_scaled[df_scaled['time'].isnull()]"
   ]
  },
  {
   "cell_type": "code",
   "execution_count": 16,
   "metadata": {},
   "outputs": [
    {
     "output_type": "execute_result",
     "data": {
      "text/plain": "        P1_B2004  P1_B2016  P1_B3004  P1_B3005  P1_B4002  P1_B4005  P1_B400B  \\\n0       0.950413  0.482115  0.085856  0.946369  0.875635  0.000000  0.005514   \n1       0.950413  0.481966  0.085856  0.946369  0.875635  0.000000  0.005858   \n2       0.950413  0.482164  0.085856  0.946369  0.875635  0.000000  0.004825   \n3       0.950413  0.482960  0.085856  0.946369  0.875635  0.000000  0.006892   \n4       0.950413  0.482512  0.085856  0.946369  0.875635  0.000000  0.006203   \n...          ...       ...       ...       ...       ...       ...       ...   \n995395  0.971074  0.638923  0.147181  0.589164  0.875635  0.095426  0.049624   \n995396  0.971074  0.638873  0.147181  0.589164  0.875635  0.095815  0.048245   \n995397  0.971074  0.638078  0.147181  0.589164  0.875635  0.095861  0.048245   \n995398  0.971074  0.639470  0.147181  0.589164  0.875635  0.096161  0.048245   \n995399  0.971074  0.640513  0.147181  0.589164  0.875635  0.096452  0.050313   \n\n        P1_B4022  P1_FCV01D  P1_FCV01Z  ...  P4_HT_PS     P4_LD  P4_ST_FD  \\\n0       0.711683   0.000000   0.000378  ...       0.0  0.611301  0.490196   \n1       0.711537   0.000000   0.000378  ...       0.0  0.623515  0.482726   \n2       0.711767   0.000000   0.000453  ...       0.0  0.621904  0.510738   \n3       0.712871   0.000000   0.000302  ...       0.0  0.624723  0.524743   \n4       0.712246   0.000000   0.000378  ...       0.0  0.634387  0.507937   \n...          ...        ...        ...  ...       ...       ...       ...   \n995395  0.706514   0.117117   0.108488  ...       0.0  0.606335  0.464986   \n995396  0.706430   0.117343   0.108488  ...       0.0  0.611435  0.484594   \n995397  0.705638   0.119154   0.108488  ...       0.0  0.613717  0.494865   \n995398  0.707077   0.119637   0.108488  ...       0.0  0.613986  0.503268   \n995399  0.708181   0.119953   0.108488  ...       0.0  0.616670  0.465920   \n\n        P4_ST_LD  P4_ST_PO  P4_ST_PS  P4_ST_PT01  P4_ST_TT01  attack  \\\n0       0.387599  0.400661  0.974759    0.016927    0.999920     0.0   \n1       0.385931  0.402465  0.974759    0.016927    0.999920     0.0   \n2       0.392951  0.404043  0.974759    0.016927    0.999920     0.0   \n3       0.390936  0.409453  0.974759    0.016927    0.999920     0.0   \n4       0.397261  0.409903  0.974759    0.016927    0.999920     0.0   \n...          ...       ...       ...         ...         ...     ...   \n995395  0.381343  0.403216  0.000000    0.021381    0.998954     0.0   \n995396  0.388225  0.403441  0.000000    0.021381    0.998712     0.0   \n995397  0.389476  0.406372  0.000000    0.021381    0.999034     0.0   \n995398  0.391839  0.405921  0.000000    0.021381    0.998873     0.0   \n995399  0.396357  0.403667  0.000000    0.021381    0.999034     0.0   \n\n                       time  \n0       2019-09-11 20:00:00  \n1       2019-09-11 20:00:01  \n2       2019-09-11 20:00:02  \n3       2019-09-11 20:00:03  \n4       2019-09-11 20:00:04  \n...                     ...  \n995395  2019-11-01 19:59:55  \n995396  2019-11-01 19:59:56  \n995397  2019-11-01 19:59:57  \n995398  2019-11-01 19:59:58  \n995399  2019-11-01 19:59:59  \n\n[995400 rows x 61 columns]",
      "text/html": "<div>\n<style scoped>\n    .dataframe tbody tr th:only-of-type {\n        vertical-align: middle;\n    }\n\n    .dataframe tbody tr th {\n        vertical-align: top;\n    }\n\n    .dataframe thead th {\n        text-align: right;\n    }\n</style>\n<table border=\"1\" class=\"dataframe\">\n  <thead>\n    <tr style=\"text-align: right;\">\n      <th></th>\n      <th>P1_B2004</th>\n      <th>P1_B2016</th>\n      <th>P1_B3004</th>\n      <th>P1_B3005</th>\n      <th>P1_B4002</th>\n      <th>P1_B4005</th>\n      <th>P1_B400B</th>\n      <th>P1_B4022</th>\n      <th>P1_FCV01D</th>\n      <th>P1_FCV01Z</th>\n      <th>...</th>\n      <th>P4_HT_PS</th>\n      <th>P4_LD</th>\n      <th>P4_ST_FD</th>\n      <th>P4_ST_LD</th>\n      <th>P4_ST_PO</th>\n      <th>P4_ST_PS</th>\n      <th>P4_ST_PT01</th>\n      <th>P4_ST_TT01</th>\n      <th>attack</th>\n      <th>time</th>\n    </tr>\n  </thead>\n  <tbody>\n    <tr>\n      <th>0</th>\n      <td>0.950413</td>\n      <td>0.482115</td>\n      <td>0.085856</td>\n      <td>0.946369</td>\n      <td>0.875635</td>\n      <td>0.000000</td>\n      <td>0.005514</td>\n      <td>0.711683</td>\n      <td>0.000000</td>\n      <td>0.000378</td>\n      <td>...</td>\n      <td>0.0</td>\n      <td>0.611301</td>\n      <td>0.490196</td>\n      <td>0.387599</td>\n      <td>0.400661</td>\n      <td>0.974759</td>\n      <td>0.016927</td>\n      <td>0.999920</td>\n      <td>0.0</td>\n      <td>2019-09-11 20:00:00</td>\n    </tr>\n    <tr>\n      <th>1</th>\n      <td>0.950413</td>\n      <td>0.481966</td>\n      <td>0.085856</td>\n      <td>0.946369</td>\n      <td>0.875635</td>\n      <td>0.000000</td>\n      <td>0.005858</td>\n      <td>0.711537</td>\n      <td>0.000000</td>\n      <td>0.000378</td>\n      <td>...</td>\n      <td>0.0</td>\n      <td>0.623515</td>\n      <td>0.482726</td>\n      <td>0.385931</td>\n      <td>0.402465</td>\n      <td>0.974759</td>\n      <td>0.016927</td>\n      <td>0.999920</td>\n      <td>0.0</td>\n      <td>2019-09-11 20:00:01</td>\n    </tr>\n    <tr>\n      <th>2</th>\n      <td>0.950413</td>\n      <td>0.482164</td>\n      <td>0.085856</td>\n      <td>0.946369</td>\n      <td>0.875635</td>\n      <td>0.000000</td>\n      <td>0.004825</td>\n      <td>0.711767</td>\n      <td>0.000000</td>\n      <td>0.000453</td>\n      <td>...</td>\n      <td>0.0</td>\n      <td>0.621904</td>\n      <td>0.510738</td>\n      <td>0.392951</td>\n      <td>0.404043</td>\n      <td>0.974759</td>\n      <td>0.016927</td>\n      <td>0.999920</td>\n      <td>0.0</td>\n      <td>2019-09-11 20:00:02</td>\n    </tr>\n    <tr>\n      <th>3</th>\n      <td>0.950413</td>\n      <td>0.482960</td>\n      <td>0.085856</td>\n      <td>0.946369</td>\n      <td>0.875635</td>\n      <td>0.000000</td>\n      <td>0.006892</td>\n      <td>0.712871</td>\n      <td>0.000000</td>\n      <td>0.000302</td>\n      <td>...</td>\n      <td>0.0</td>\n      <td>0.624723</td>\n      <td>0.524743</td>\n      <td>0.390936</td>\n      <td>0.409453</td>\n      <td>0.974759</td>\n      <td>0.016927</td>\n      <td>0.999920</td>\n      <td>0.0</td>\n      <td>2019-09-11 20:00:03</td>\n    </tr>\n    <tr>\n      <th>4</th>\n      <td>0.950413</td>\n      <td>0.482512</td>\n      <td>0.085856</td>\n      <td>0.946369</td>\n      <td>0.875635</td>\n      <td>0.000000</td>\n      <td>0.006203</td>\n      <td>0.712246</td>\n      <td>0.000000</td>\n      <td>0.000378</td>\n      <td>...</td>\n      <td>0.0</td>\n      <td>0.634387</td>\n      <td>0.507937</td>\n      <td>0.397261</td>\n      <td>0.409903</td>\n      <td>0.974759</td>\n      <td>0.016927</td>\n      <td>0.999920</td>\n      <td>0.0</td>\n      <td>2019-09-11 20:00:04</td>\n    </tr>\n    <tr>\n      <th>...</th>\n      <td>...</td>\n      <td>...</td>\n      <td>...</td>\n      <td>...</td>\n      <td>...</td>\n      <td>...</td>\n      <td>...</td>\n      <td>...</td>\n      <td>...</td>\n      <td>...</td>\n      <td>...</td>\n      <td>...</td>\n      <td>...</td>\n      <td>...</td>\n      <td>...</td>\n      <td>...</td>\n      <td>...</td>\n      <td>...</td>\n      <td>...</td>\n      <td>...</td>\n      <td>...</td>\n    </tr>\n    <tr>\n      <th>995395</th>\n      <td>0.971074</td>\n      <td>0.638923</td>\n      <td>0.147181</td>\n      <td>0.589164</td>\n      <td>0.875635</td>\n      <td>0.095426</td>\n      <td>0.049624</td>\n      <td>0.706514</td>\n      <td>0.117117</td>\n      <td>0.108488</td>\n      <td>...</td>\n      <td>0.0</td>\n      <td>0.606335</td>\n      <td>0.464986</td>\n      <td>0.381343</td>\n      <td>0.403216</td>\n      <td>0.000000</td>\n      <td>0.021381</td>\n      <td>0.998954</td>\n      <td>0.0</td>\n      <td>2019-11-01 19:59:55</td>\n    </tr>\n    <tr>\n      <th>995396</th>\n      <td>0.971074</td>\n      <td>0.638873</td>\n      <td>0.147181</td>\n      <td>0.589164</td>\n      <td>0.875635</td>\n      <td>0.095815</td>\n      <td>0.048245</td>\n      <td>0.706430</td>\n      <td>0.117343</td>\n      <td>0.108488</td>\n      <td>...</td>\n      <td>0.0</td>\n      <td>0.611435</td>\n      <td>0.484594</td>\n      <td>0.388225</td>\n      <td>0.403441</td>\n      <td>0.000000</td>\n      <td>0.021381</td>\n      <td>0.998712</td>\n      <td>0.0</td>\n      <td>2019-11-01 19:59:56</td>\n    </tr>\n    <tr>\n      <th>995397</th>\n      <td>0.971074</td>\n      <td>0.638078</td>\n      <td>0.147181</td>\n      <td>0.589164</td>\n      <td>0.875635</td>\n      <td>0.095861</td>\n      <td>0.048245</td>\n      <td>0.705638</td>\n      <td>0.119154</td>\n      <td>0.108488</td>\n      <td>...</td>\n      <td>0.0</td>\n      <td>0.613717</td>\n      <td>0.494865</td>\n      <td>0.389476</td>\n      <td>0.406372</td>\n      <td>0.000000</td>\n      <td>0.021381</td>\n      <td>0.999034</td>\n      <td>0.0</td>\n      <td>2019-11-01 19:59:57</td>\n    </tr>\n    <tr>\n      <th>995398</th>\n      <td>0.971074</td>\n      <td>0.639470</td>\n      <td>0.147181</td>\n      <td>0.589164</td>\n      <td>0.875635</td>\n      <td>0.096161</td>\n      <td>0.048245</td>\n      <td>0.707077</td>\n      <td>0.119637</td>\n      <td>0.108488</td>\n      <td>...</td>\n      <td>0.0</td>\n      <td>0.613986</td>\n      <td>0.503268</td>\n      <td>0.391839</td>\n      <td>0.405921</td>\n      <td>0.000000</td>\n      <td>0.021381</td>\n      <td>0.998873</td>\n      <td>0.0</td>\n      <td>2019-11-01 19:59:58</td>\n    </tr>\n    <tr>\n      <th>995399</th>\n      <td>0.971074</td>\n      <td>0.640513</td>\n      <td>0.147181</td>\n      <td>0.589164</td>\n      <td>0.875635</td>\n      <td>0.096452</td>\n      <td>0.050313</td>\n      <td>0.708181</td>\n      <td>0.119953</td>\n      <td>0.108488</td>\n      <td>...</td>\n      <td>0.0</td>\n      <td>0.616670</td>\n      <td>0.465920</td>\n      <td>0.396357</td>\n      <td>0.403667</td>\n      <td>0.000000</td>\n      <td>0.021381</td>\n      <td>0.999034</td>\n      <td>0.0</td>\n      <td>2019-11-01 19:59:59</td>\n    </tr>\n  </tbody>\n</table>\n<p>995400 rows × 61 columns</p>\n</div>"
     },
     "metadata": {},
     "execution_count": 16
    }
   ],
   "source": [
    "df_scaled"
   ]
  },
  {
   "cell_type": "code",
   "execution_count": 17,
   "metadata": {},
   "outputs": [
    {
     "output_type": "execute_result",
     "data": {
      "text/plain": "Index(['time', 'P1_B2004', 'P1_B2016', 'P1_B3004', 'P1_B3005', 'P1_B4002',\n       'P1_B4005', 'P1_B400B', 'P1_B4022', 'P1_FCV01D', 'P1_FCV01Z',\n       'P1_FCV02D', 'P1_FCV02Z', 'P1_FCV03D', 'P1_FCV03Z', 'P1_FT01',\n       'P1_FT01Z', 'P1_FT02', 'P1_FT02Z', 'P1_FT03', 'P1_FT03Z', 'P1_LCV01D',\n       'P1_LCV01Z', 'P1_LIT01', 'P1_PCV01D', 'P1_PCV01Z', 'P1_PCV02D',\n       'P1_PCV02Z', 'P1_PIT01', 'P1_PIT02', 'P1_TIT01', 'P1_TIT02', 'P2_24Vdc',\n       'P2_Auto', 'P2_Emgy', 'P2_On', 'P2_SD01', 'P2_SIT01', 'P2_TripEx',\n       'P2_VT01e', 'P2_VXT02', 'P2_VXT03', 'P2_VYT02', 'P2_VYT03', 'P3_LCP01D',\n       'P3_LCV01D', 'P3_LH', 'P3_LL', 'P3_LT01', 'P4_HT_FD', 'P4_HT_LD',\n       'P4_HT_PO', 'P4_HT_PS', 'P4_LD', 'P4_ST_FD', 'P4_ST_LD', 'P4_ST_PO',\n       'P4_ST_PS', 'P4_ST_PT01', 'P4_ST_TT01', 'attack', 'attack_P1',\n       'attack_P2', 'attack_P3'],\n      dtype='object')"
     },
     "metadata": {},
     "execution_count": 17
    }
   ],
   "source": [
    "train1.columns"
   ]
  },
  {
   "cell_type": "code",
   "execution_count": 18,
   "metadata": {},
   "outputs": [
    {
     "output_type": "execute_result",
     "data": {
      "text/plain": "Index(['time', 'P1_B2004', 'P1_B2016', 'P1_B3004', 'P1_B3005', 'P1_B4002',\n       'P1_B4005', 'P1_B400B', 'P1_B4022', 'P1_FCV01D', 'P1_FCV01Z',\n       'P1_FCV02D', 'P1_FCV02Z', 'P1_FCV03D', 'P1_FCV03Z', 'P1_FT01',\n       'P1_FT01Z', 'P1_FT02', 'P1_FT02Z', 'P1_FT03', 'P1_FT03Z', 'P1_LCV01D',\n       'P1_LCV01Z', 'P1_LIT01', 'P1_PCV01D', 'P1_PCV01Z', 'P1_PCV02D',\n       'P1_PCV02Z', 'P1_PIT01', 'P1_PIT02', 'P1_TIT01', 'P1_TIT02', 'P2_24Vdc',\n       'P2_Auto', 'P2_Emgy', 'P2_On', 'P2_SD01', 'P2_SIT01', 'P2_TripEx',\n       'P2_VT01e', 'P2_VXT02', 'P2_VXT03', 'P2_VYT02', 'P2_VYT03', 'P3_LCP01D',\n       'P3_LCV01D', 'P3_LH', 'P3_LL', 'P3_LT01', 'P4_HT_FD', 'P4_HT_LD',\n       'P4_HT_PO', 'P4_HT_PS', 'P4_LD', 'P4_ST_FD', 'P4_ST_LD', 'P4_ST_PO',\n       'P4_ST_PS', 'P4_ST_PT01', 'P4_ST_TT01', 'attack', 'attack_P1',\n       'attack_P2', 'attack_P3'],\n      dtype='object')"
     },
     "metadata": {},
     "execution_count": 18
    }
   ],
   "source": [
    "test1.columns"
   ]
  },
  {
   "cell_type": "code",
   "execution_count": 19,
   "metadata": {},
   "outputs": [
    {
     "output_type": "execute_result",
     "data": {
      "text/plain": "False"
     },
     "metadata": {},
     "execution_count": 19
    }
   ],
   "source": [
    "df.isnull().values.any()"
   ]
  },
  {
   "cell_type": "code",
   "execution_count": 20,
   "metadata": {},
   "outputs": [
    {
     "output_type": "execute_result",
     "data": {
      "text/plain": "0    309600\nName: attack, dtype: int64"
     },
     "metadata": {},
     "execution_count": 20
    }
   ],
   "source": [
    "train1['attack'].value_counts()"
   ]
  },
  {
   "cell_type": "code",
   "execution_count": 21,
   "metadata": {},
   "outputs": [
    {
     "output_type": "execute_result",
     "data": {
      "text/plain": "0    240424\n1       776\nName: attack, dtype: int64"
     },
     "metadata": {},
     "execution_count": 21
    }
   ],
   "source": [
    "train2['attack'].value_counts()"
   ]
  },
  {
   "cell_type": "code",
   "execution_count": 22,
   "metadata": {},
   "outputs": [
    {
     "output_type": "execute_result",
     "data": {
      "text/plain": "0    147011\n1      5989\nName: attack, dtype: int64"
     },
     "metadata": {},
     "execution_count": 22
    }
   ],
   "source": [
    "test1['attack'].value_counts()"
   ]
  },
  {
   "cell_type": "code",
   "execution_count": 23,
   "metadata": {},
   "outputs": [
    {
     "output_type": "execute_result",
     "data": {
      "text/plain": "0    280062\n1     11538\nName: attack, dtype: int64"
     },
     "metadata": {},
     "execution_count": 23
    }
   ],
   "source": [
    "test2['attack'].value_counts()"
   ]
  },
  {
   "cell_type": "code",
   "execution_count": 25,
   "metadata": {},
   "outputs": [],
   "source": [
    "TRAIN_DF_RAW = pd.concat([train1, train2])\n",
    "TRAIN_DF_RAW= TRAIN_DF_RAW[TRAIN_DF_RAW.columns[:-3]]\n",
    "TRAIN_DF = scaler.fit_transform(TRAIN_DF_RAW[TRAIN_DF_RAW.columns[1:]])\n",
    "TRAIN_DF = pd.DataFrame(TRAIN_DF, columns= TRAIN_DF_RAW.columns[1:])"
   ]
  },
  {
   "cell_type": "code",
   "execution_count": 26,
   "metadata": {},
   "outputs": [
    {
     "output_type": "execute_result",
     "data": {
      "text/plain": "Index(['time', 'P1_B2004', 'P1_B2016', 'P1_B3004', 'P1_B3005', 'P1_B4002',\n       'P1_B4005', 'P1_B400B', 'P1_B4022', 'P1_FCV01D', 'P1_FCV01Z',\n       'P1_FCV02D', 'P1_FCV02Z', 'P1_FCV03D', 'P1_FCV03Z', 'P1_FT01',\n       'P1_FT01Z', 'P1_FT02', 'P1_FT02Z', 'P1_FT03', 'P1_FT03Z', 'P1_LCV01D',\n       'P1_LCV01Z', 'P1_LIT01', 'P1_PCV01D', 'P1_PCV01Z', 'P1_PCV02D',\n       'P1_PCV02Z', 'P1_PIT01', 'P1_PIT02', 'P1_TIT01', 'P1_TIT02', 'P2_24Vdc',\n       'P2_Auto', 'P2_Emgy', 'P2_On', 'P2_SD01', 'P2_SIT01', 'P2_TripEx',\n       'P2_VT01e', 'P2_VXT02', 'P2_VXT03', 'P2_VYT02', 'P2_VYT03', 'P3_LCP01D',\n       'P3_LCV01D', 'P3_LH', 'P3_LL', 'P3_LT01', 'P4_HT_FD', 'P4_HT_LD',\n       'P4_HT_PO', 'P4_HT_PS', 'P4_LD', 'P4_ST_FD', 'P4_ST_LD', 'P4_ST_PO',\n       'P4_ST_PS', 'P4_ST_PT01', 'P4_ST_TT01', 'attack'],\n      dtype='object')"
     },
     "metadata": {},
     "execution_count": 26
    }
   ],
   "source": [
    "TRAIN_DF_RAW.columns"
   ]
  },
  {
   "cell_type": "code",
   "execution_count": 28,
   "metadata": {},
   "outputs": [],
   "source": []
  },
  {
   "cell_type": "code",
   "execution_count": 1,
   "metadata": {},
   "outputs": [
    {
     "output_type": "error",
     "ename": "NameError",
     "evalue": "name 'train_sequense' is not defined",
     "traceback": [
      "\u001b[0;31m---------------------------------------------------------------------------\u001b[0m",
      "\u001b[0;31mNameError\u001b[0m                                 Traceback (most recent call last)",
      "\u001b[0;32m<ipython-input-1-ab477f584668>\u001b[0m in \u001b[0;36m<module>\u001b[0;34m\u001b[0m\n\u001b[0;32m----> 1\u001b[0;31m \u001b[0mtrain_sequense\u001b[0m\u001b[0;34m\u001b[0m\u001b[0;34m\u001b[0m\u001b[0m\n\u001b[0m",
      "\u001b[0;31mNameError\u001b[0m: name 'train_sequense' is not defined"
     ]
    }
   ],
   "source": []
  },
  {
   "cell_type": "code",
   "execution_count": null,
   "metadata": {},
   "outputs": [],
   "source": []
  },
  {
   "cell_type": "code",
   "execution_count": null,
   "metadata": {},
   "outputs": [],
   "source": []
  },
  {
   "cell_type": "code",
   "execution_count": null,
   "metadata": {},
   "outputs": [],
   "source": []
  },
  {
   "cell_type": "code",
   "execution_count": null,
   "metadata": {},
   "outputs": [],
   "source": []
  },
  {
   "cell_type": "code",
   "execution_count": null,
   "metadata": {},
   "outputs": [],
   "source": []
  }
 ]
}