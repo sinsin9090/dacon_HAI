{
 "metadata": {
  "language_info": {
   "codemirror_mode": {
    "name": "ipython",
    "version": 3
   },
   "file_extension": ".py",
   "mimetype": "text/x-python",
   "name": "python",
   "nbconvert_exporter": "python",
   "pygments_lexer": "ipython3",
   "version": "3.7.6-final"
  },
  "orig_nbformat": 2,
  "kernelspec": {
   "name": "python3",
   "display_name": "Python 3"
  }
 },
 "nbformat": 4,
 "nbformat_minor": 2,
 "cells": [
  {
   "cell_type": "code",
   "execution_count": 1,
   "metadata": {},
   "outputs": [],
   "source": [
    "import pandas as pd\n",
    "import gc"
   ]
  },
  {
   "cell_type": "code",
   "execution_count": 2,
   "metadata": {},
   "outputs": [],
   "source": [
    "import numpy as np\n",
    "import sys\n",
    "import glob\n",
    "sys.setrecursionlimit(9999)"
   ]
  },
  {
   "cell_type": "code",
   "execution_count": 3,
   "metadata": {},
   "outputs": [],
   "source": [
    "csv_list = glob.glob('./HAI 2.0/training/*.csv')"
   ]
  },
  {
   "cell_type": "code",
   "execution_count": 4,
   "metadata": {},
   "outputs": [],
   "source": [
    "train1 = pd.read_csv(csv_list[0]).rename(columns=lambda x: x.strip())\n",
    "train2 = pd.read_csv(csv_list[1]).rename(columns=lambda x: x.strip())\n",
    "train3 = pd.read_csv(csv_list[2]).rename(columns=lambda x: x.strip())"
   ]
  },
  {
   "cell_type": "code",
   "execution_count": 5,
   "metadata": {},
   "outputs": [
    {
     "output_type": "execute_result",
     "data": {
      "text/plain": "0"
     },
     "metadata": {},
     "execution_count": 5
    }
   ],
   "source": [
    "train = pd.concat([train1,train2,train3])\n",
    "del train1 , train2, train3 \n",
    "gc.collect()"
   ]
  },
  {
   "cell_type": "code",
   "execution_count": 6,
   "metadata": {},
   "outputs": [],
   "source": [
    "TAG_MIN = train[['C01', 'C02', 'C03', 'C04', 'C05', 'C06', 'C07', 'C08', 'C09', 'C10',\n",
    "       'C11', 'C12', 'C13', 'C14', 'C15', 'C16', 'C17', 'C18', 'C19', 'C20',\n",
    "       'C21', 'C22', 'C23', 'C24', 'C25', 'C26', 'C27', 'C28', 'C29', 'C30',\n",
    "       'C31', 'C32', 'C33', 'C34', 'C35', 'C36', 'C37', 'C38', 'C39', 'C40',\n",
    "       'C41', 'C42', 'C43', 'C44', 'C45', 'C46', 'C47', 'C48', 'C49', 'C50',\n",
    "       'C51', 'C52', 'C53', 'C54', 'C55', 'C56', 'C57', 'C58', 'C59', 'C60',\n",
    "       'C61', 'C62', 'C63', 'C64', 'C65', 'C66', 'C67', 'C68', 'C69', 'C70',\n",
    "       'C71', 'C72', 'C73', 'C74', 'C75', 'C76', 'C77', 'C78', 'C79']].min()\n",
    "TAG_MAX = train[['C01', 'C02', 'C03', 'C04', 'C05', 'C06', 'C07', 'C08', 'C09', 'C10',\n",
    "       'C11', 'C12', 'C13', 'C14', 'C15', 'C16', 'C17', 'C18', 'C19', 'C20',\n",
    "       'C21', 'C22', 'C23', 'C24', 'C25', 'C26', 'C27', 'C28', 'C29', 'C30',\n",
    "       'C31', 'C32', 'C33', 'C34', 'C35', 'C36', 'C37', 'C38', 'C39', 'C40',\n",
    "       'C41', 'C42', 'C43', 'C44', 'C45', 'C46', 'C47', 'C48', 'C49', 'C50',\n",
    "       'C51', 'C52', 'C53', 'C54', 'C55', 'C56', 'C57', 'C58', 'C59', 'C60',\n",
    "       'C61', 'C62', 'C63', 'C64', 'C65', 'C66', 'C67', 'C68', 'C69', 'C70',\n",
    "       'C71', 'C72', 'C73', 'C74', 'C75', 'C76', 'C77', 'C78', 'C79']].max()"
   ]
  },
  {
   "cell_type": "code",
   "execution_count": 7,
   "metadata": {},
   "outputs": [],
   "source": [
    "def normalize(df):\n",
    "    ndf = df.copy()\n",
    "    for c in df.columns:\n",
    "        if TAG_MIN[c] == TAG_MAX[c]:\n",
    "            ndf[c] = df[c] - TAG_MIN[c]\n",
    "        else:\n",
    "            ndf[c] = (df[c] - TAG_MIN[c]) / (TAG_MAX[c] - TAG_MIN[c])\n",
    "    return ndf"
   ]
  },
  {
   "cell_type": "code",
   "execution_count": 8,
   "metadata": {},
   "outputs": [],
   "source": [
    "train_scaled = normalize(train.drop('time', axis=1))\n",
    "train_scaled = pd.DataFrame(train_scaled , columns=train.drop('time', axis=1).columns).ewm(alpha=0.9).mean()\n",
    "train_scaled['time'] = train['time'].tolist()\n",
    "train_scaled['time']= pd.to_datetime(train_scaled['time'])"
   ]
  },
  {
   "cell_type": "code",
   "execution_count": 9,
   "metadata": {
    "tags": []
   },
   "outputs": [
    {
     "output_type": "display_data",
     "data": {
      "text/plain": "HBox(children=(FloatProgress(value=0.0, max=921544.0), HTML(value='')))",
      "application/vnd.jupyter.widget-view+json": {
       "version_major": 2,
       "version_minor": 0,
       "model_id": "34146789ca924f44b31627b593d4a6cb"
      }
     },
     "metadata": {}
    },
    {
     "output_type": "stream",
     "name": "stdout",
     "text": "\n"
    }
   ],
   "source": [
    "from tqdm.notebook import trange\n",
    "from datetime import timedelta\n",
    "from tqdm import tqdm\n",
    "\n",
    "import dateutil\n",
    "\n",
    "valid_idxs = []\n",
    "timestamp_list = train_scaled['time'].astype(str).tolist()\n",
    "WINDOW_SIZE = 60\n",
    "\n",
    "for L in trange(len(timestamp_list) - WINDOW_SIZE + 1):\n",
    "    R = L + WINDOW_SIZE - 1\n",
    "    if dateutil.parser.parse(timestamp_list[R]) - dateutil.parser.parse(timestamp_list[L]) == timedelta(seconds=WINDOW_SIZE - 1):\n",
    "        valid_idxs.append(L)"
   ]
  },
  {
   "cell_type": "code",
   "execution_count": 10,
   "metadata": {},
   "outputs": [],
   "source": [
    "tag_values = np.array(train_scaled.drop('time',axis=1), dtype=np.float32)\n",
    "data_list = []\n",
    "for q in valid_idxs[:-1] :\n",
    "    item = {} \n",
    "    last = q + WINDOW_SIZE \n",
    "    item[\"given\"] = tag_values[q : last]\n",
    "    item[\"answer\"] = tag_values[last]\n",
    "    data_list.append(item)"
   ]
  },
  {
   "cell_type": "code",
   "execution_count": 11,
   "metadata": {},
   "outputs": [],
   "source": [
    "X_train =  np.array([i['given'] for i in data_list ])\n",
    "Y_train = np.array([i['answer'] for i in data_list ])"
   ]
  },
  {
   "cell_type": "code",
   "execution_count": 12,
   "metadata": {},
   "outputs": [],
   "source": [
    "val_csv = pd.read_csv('./HAI 2.0/validation/validation.csv')\n",
    "test_csv_list = glob.glob('./HAI 2.0/testing/*.csv')"
   ]
  },
  {
   "cell_type": "code",
   "execution_count": 13,
   "metadata": {},
   "outputs": [],
   "source": [
    "test1 = pd.read_csv(test_csv_list[0]).rename(columns=lambda x: x.strip())\n",
    "test2 = pd.read_csv(test_csv_list[1]).rename(columns=lambda x: x.strip())\n",
    "test3 = pd.read_csv(test_csv_list[2]).rename(columns=lambda x: x.strip())\n",
    "test4 = pd.read_csv(test_csv_list[3]).rename(columns=lambda x: x.strip())\n",
    "\n",
    "test_df = pd.concat([test1,test2,test3,test4])"
   ]
  },
  {
   "cell_type": "code",
   "execution_count": 14,
   "metadata": {},
   "outputs": [
    {
     "output_type": "execute_result",
     "data": {
      "text/plain": "23"
     },
     "metadata": {},
     "execution_count": 14
    }
   ],
   "source": [
    "del test1 , test2, test3, test4 \n",
    "gc.collect()"
   ]
  },
  {
   "cell_type": "code",
   "execution_count": 15,
   "metadata": {},
   "outputs": [],
   "source": [
    "val_scaled = normalize(val_csv.drop(['time','attack'] , axis=1))\n",
    "val_scaled = pd.DataFrame(val_scaled , columns=val_csv.drop(['time','attack'], axis=1).columns).ewm(alpha=0.9).mean()\n",
    "val_scaled['time']= val_csv['time'].tolist()\n",
    "val_scaled['time']= pd.to_datetime(val_scaled['time'])"
   ]
  },
  {
   "cell_type": "code",
   "execution_count": 16,
   "metadata": {
    "tags": []
   },
   "outputs": [
    {
     "output_type": "display_data",
     "data": {
      "text/plain": "HBox(children=(FloatProgress(value=0.0, max=43142.0), HTML(value='')))",
      "application/vnd.jupyter.widget-view+json": {
       "version_major": 2,
       "version_minor": 0,
       "model_id": "37017735ea9440038a42dc79bf85c3f3"
      }
     },
     "metadata": {}
    },
    {
     "output_type": "stream",
     "name": "stdout",
     "text": "\n"
    }
   ],
   "source": [
    "valid_idxs_val = []\n",
    "timestamp_list = val_scaled['time'].astype(str).tolist()\n",
    "\n",
    "for L in trange(len(timestamp_list) - WINDOW_SIZE + 1):\n",
    "    R = L + WINDOW_SIZE - 1\n",
    "    if dateutil.parser.parse(timestamp_list[R]) - dateutil.parser.parse(timestamp_list[L]) == timedelta(seconds=WINDOW_SIZE - 1):\n",
    "        valid_idxs_val.append(L)"
   ]
  },
  {
   "cell_type": "code",
   "execution_count": 17,
   "metadata": {},
   "outputs": [],
   "source": [
    "tag_values_val = np.array(val_scaled.drop('time',axis=1), dtype=np.float32)\n",
    "data_list_val = []\n",
    "for q in valid_idxs_val[:-1] :\n",
    "    item = {} \n",
    "    last = q + WINDOW_SIZE \n",
    "    item[\"given\"] = tag_values_val[q : last]\n",
    "    item[\"answer\"] = tag_values_val[last]\n",
    "    data_list_val.append(item)"
   ]
  },
  {
   "cell_type": "code",
   "execution_count": 18,
   "metadata": {},
   "outputs": [],
   "source": [
    "X_val =  np.array([i['given'] for i in data_list_val ])\n",
    "Y_val = np.array([i['answer'] for i in data_list_val ])\n"
   ]
  },
  {
   "cell_type": "code",
   "execution_count": 19,
   "metadata": {},
   "outputs": [],
   "source": [
    "test_scaled = normalize(test_df.drop('time' , axis=1))\n",
    "test_scaled = pd.DataFrame(test_scaled , columns=test_df.drop('time', axis=1).columns).ewm(alpha=0.9).mean()\n",
    "test_scaled['time']= test_df['time'].tolist()\n",
    "test_scaled['time']= pd.to_datetime(test_scaled['time'])"
   ]
  },
  {
   "cell_type": "code",
   "execution_count": 20,
   "metadata": {
    "tags": []
   },
   "outputs": [
    {
     "output_type": "display_data",
     "data": {
      "text/plain": "HBox(children=(FloatProgress(value=0.0, max=358745.0), HTML(value='')))",
      "application/vnd.jupyter.widget-view+json": {
       "version_major": 2,
       "version_minor": 0,
       "model_id": "03af4a68c7234959b54a9e699e1f4436"
      }
     },
     "metadata": {}
    },
    {
     "output_type": "stream",
     "name": "stdout",
     "text": "\n"
    }
   ],
   "source": [
    "valid_idxs_test = []\n",
    "timestamp_list = test_df['time'].astype(str).tolist()\n",
    "\n",
    "for L in trange(len(timestamp_list) - WINDOW_SIZE + 1):\n",
    "    R = L + WINDOW_SIZE - 1\n",
    "    if dateutil.parser.parse(timestamp_list[R]) - dateutil.parser.parse(timestamp_list[L]) == timedelta(seconds=WINDOW_SIZE - 1):\n",
    "        valid_idxs_test.append(L)\n",
    "\n",
    "tag_values_test = np.array(test_scaled.drop('time',axis=1), dtype=np.float32)\n",
    "data_list_test = []\n",
    "for q in valid_idxs_test[:-1] :\n",
    "    item = {} \n",
    "    last = q + WINDOW_SIZE \n",
    "    item[\"given\"] = tag_values_test[q : last]\n",
    "    item[\"answer\"] = tag_values_test[last]\n",
    "    data_list_test.append(item)"
   ]
  },
  {
   "cell_type": "code",
   "execution_count": 21,
   "metadata": {},
   "outputs": [],
   "source": [
    "X_test =  np.array([i['given'] for i in data_list_test ])\n",
    "Y_test = np.array([i['answer'] for i in data_list_test ])\n"
   ]
  },
  {
   "cell_type": "code",
   "execution_count": 22,
   "metadata": {},
   "outputs": [],
   "source": [
    "import lightgbm as lgb\n",
    "#from sklearn.multioutput import MultiOutputRegressor"
   ]
  },
  {
   "cell_type": "code",
   "execution_count": 23,
   "metadata": {},
   "outputs": [
    {
     "output_type": "execute_result",
     "data": {
      "text/plain": "4"
     },
     "metadata": {},
     "execution_count": 23
    }
   ],
   "source": [
    "X_train_reshape =X_train.reshape(len(X_train)  , WINDOW_SIZE * 79 )\n",
    "X_val_reshape =X_val.reshape(len(X_val) , WINDOW_SIZE * 79 )\n",
    "X_test_reshape = X_test.reshape(len(X_test) , WINDOW_SIZE * 79 )\n",
    "\n",
    "del X_train , train, data_list, data_list_test , data_list_val, tag_values, tag_values_test, tag_values_val, val_csv, val_scaled, test_scaled, test_df \n",
    "\n",
    "gc.collect()\n",
    "\n"
   ]
  },
  {
   "cell_type": "code",
   "execution_count": 36,
   "metadata": {
    "tags": []
   },
   "outputs": [
    {
     "output_type": "display_data",
     "data": {
      "text/plain": "HBox(children=(FloatProgress(value=0.0, max=79.0), HTML(value='')))",
      "application/vnd.jupyter.widget-view+json": {
       "version_major": 2,
       "version_minor": 0,
       "model_id": "c9083c88efd94e378eabc9a4ca1ba590"
      }
     },
     "metadata": {}
    },
    {
     "output_type": "stream",
     "name": "stdout",
     "text": "C0 has been learned\nC1 has been learned\nC2 has been learned\nC3 has been learned\nC4 has been learned\nC5 has been learned\nC6 has been learned\nC7 has been learned\nC8 has been learned\nC9 has been learned\nC10 has been learned\nC11 has been learned\nC12 has been learned\nC13 has been learned\nC14 has been learned\nC15 has been learned\nC16 has been learned\nC17 has been learned\nC18 has been learned\nC19 has been learned\nC20 has been learned\nC21 has been learned\nC22 has been learned\nC23 has been learned\nC24 has been learned\nC25 has been learned\nC26 has been learned\nC27 has been learned\nC28 has been learned\nC29 has been learned\nC30 has been learned\nC31 has been learned\nC32 has been learned\nC33 has been learned\nC34 has been learned\nC35 has been learned\nC36 has been learned\nC37 has been learned\nC38 has been learned\nC39 has been learned\nC40 has been learned\nC41 has been learned\nC42 has been learned\nC43 has been learned\nC44 has been learned\nC45 has been learned\nC46 has been learned\nC47 has been learned\nC48 has been learned\nC49 has been learned\nC50 has been learned\nC51 has been learned\nC52 has been learned\nC53 has been learned\nC54 has been learned\nC55 has been learned\nC56 has been learned\nC57 has been learned\nC58 has been learned\nC59 has been learned\nC60 has been learned\nC61 has been learned\nC62 has been learned\nC63 has been learned\nC64 has been learned\nC65 has been learned\nC66 has been learned\nC67 has been learned\nC68 has been learned\nC69 has been learned\nC70 has been learned\nC71 has been learned\nC72 has been learned\nC73 has been learned\nC74 has been learned\nC75 has been learned\nC76 has been learned\nC77 has been learned\nC78 has been learned\n\n"
    }
   ],
   "source": [
    "predictor = []\n",
    "for i in trange(0,79) :\n",
    "    model = lgb.LGBMRegressor(n_jobs=-1, random_state=69)\n",
    "    model.fit(X_train_reshape,Y_train.T[i] )\n",
    "    print(\"C\"+str(i) + \" has been learned\")\n",
    "    predictor.append(model)"
   ]
  },
  {
   "cell_type": "code",
   "execution_count": 41,
   "metadata": {},
   "outputs": [
    {
     "output_type": "execute_result",
     "data": {
      "text/plain": "['lgb_60_model_list.joblib']"
     },
     "metadata": {},
     "execution_count": 41
    }
   ],
   "source": [
    "from joblib import dump, load\n",
    "dump(predictor, 'lgb_60_model_list.joblib') "
   ]
  },
  {
   "cell_type": "code",
   "execution_count": 40,
   "metadata": {},
   "outputs": [
    {
     "output_type": "execute_result",
     "data": {
      "text/plain": "79"
     },
     "metadata": {},
     "execution_count": 40
    }
   ],
   "source": [
    "len(predictor)"
   ]
  },
  {
   "cell_type": "code",
   "execution_count": null,
   "metadata": {},
   "outputs": [],
   "source": [
    "from sklearn.tree import DecisionTreeClassifier"
   ]
  },
  {
   "cell_type": "code",
   "execution_count": 27,
   "metadata": {},
   "outputs": [],
   "source": [
    "dt = DecisionTreeClassifier()"
   ]
  },
  {
   "cell_type": "code",
   "execution_count": 28,
   "metadata": {},
   "outputs": [
    {
     "output_type": "execute_result",
     "data": {
      "text/plain": "DecisionTreeClassifier(ccp_alpha=0.0, class_weight=None, criterion='gini',\n                       max_depth=None, max_features=None, max_leaf_nodes=None,\n                       min_impurity_decrease=0.0, min_impurity_split=None,\n                       min_samples_leaf=1, min_samples_split=2,\n                       min_weight_fraction_leaf=0.0, presort='deprecated',\n                       random_state=None, splitter='best')"
     },
     "metadata": {},
     "execution_count": 28
    }
   ],
   "source": [
    "dt"
   ]
  },
  {
   "cell_type": "code",
   "execution_count": 29,
   "metadata": {},
   "outputs": [
    {
     "output_type": "error",
     "ename": "NameError",
     "evalue": "name 'regressor_model' is not defined",
     "traceback": [
      "\u001b[0;31m---------------------------------------------------------------------------\u001b[0m",
      "\u001b[0;31mNameError\u001b[0m                                 Traceback (most recent call last)",
      "\u001b[0;32m<ipython-input-29-8f6007bffbc4>\u001b[0m in \u001b[0;36m<module>\u001b[0;34m\u001b[0m\n\u001b[0;32m----> 1\u001b[0;31m \u001b[0mregressor_model\u001b[0m\u001b[0;34m\u001b[0m\u001b[0;34m\u001b[0m\u001b[0m\n\u001b[0m",
      "\u001b[0;31mNameError\u001b[0m: name 'regressor_model' is not defined"
     ]
    }
   ],
   "source": [
    "regressor_model"
   ]
  },
  {
   "cell_type": "code",
   "execution_count": 30,
   "metadata": {},
   "outputs": [
    {
     "output_type": "error",
     "ename": "NameError",
     "evalue": "name 'regressor_model' is not defined",
     "traceback": [
      "\u001b[0;31m---------------------------------------------------------------------------\u001b[0m",
      "\u001b[0;31mNameError\u001b[0m                                 Traceback (most recent call last)",
      "\u001b[0;32m<ipython-input-30-f6589e15eaaa>\u001b[0m in \u001b[0;36m<module>\u001b[0;34m\u001b[0m\n\u001b[0;32m----> 1\u001b[0;31m \u001b[0mY_val_predict\u001b[0m \u001b[0;34m=\u001b[0m \u001b[0mregressor_model\u001b[0m\u001b[0;34m.\u001b[0m\u001b[0mpredict\u001b[0m\u001b[0;34m(\u001b[0m\u001b[0mX_val_reshape\u001b[0m\u001b[0;34m)\u001b[0m\u001b[0;34m\u001b[0m\u001b[0;34m\u001b[0m\u001b[0m\n\u001b[0m",
      "\u001b[0;31mNameError\u001b[0m: name 'regressor_model' is not defined"
     ]
    }
   ],
   "source": [
    "Y_val_predict = regressor_model.predict(X_val_reshape)"
   ]
  },
  {
   "cell_type": "code",
   "execution_count": 31,
   "metadata": {},
   "outputs": [
    {
     "output_type": "error",
     "ename": "NameError",
     "evalue": "name 'Y_val_predict' is not defined",
     "traceback": [
      "\u001b[0;31m---------------------------------------------------------------------------\u001b[0m",
      "\u001b[0;31mNameError\u001b[0m                                 Traceback (most recent call last)",
      "\u001b[0;32m<ipython-input-31-37b7790905cd>\u001b[0m in \u001b[0;36m<module>\u001b[0;34m\u001b[0m\n\u001b[0;32m----> 1\u001b[0;31m \u001b[0mY_val_predict\u001b[0m\u001b[0;34m.\u001b[0m\u001b[0mshape\u001b[0m\u001b[0;34m\u001b[0m\u001b[0;34m\u001b[0m\u001b[0m\n\u001b[0m",
      "\u001b[0;31mNameError\u001b[0m: name 'Y_val_predict' is not defined"
     ]
    }
   ],
   "source": [
    "Y_val_predict.shape"
   ]
  },
  {
   "cell_type": "code",
   "execution_count": 32,
   "metadata": {},
   "outputs": [
    {
     "output_type": "error",
     "ename": "NameError",
     "evalue": "name 'Y_val_predict' is not defined",
     "traceback": [
      "\u001b[0;31m---------------------------------------------------------------------------\u001b[0m",
      "\u001b[0;31mNameError\u001b[0m                                 Traceback (most recent call last)",
      "\u001b[0;32m<ipython-input-32-a675d78375d0>\u001b[0m in \u001b[0;36m<module>\u001b[0;34m\u001b[0m\n\u001b[0;32m----> 1\u001b[0;31m \u001b[0merror_val\u001b[0m \u001b[0;34m=\u001b[0m \u001b[0mabs\u001b[0m\u001b[0;34m(\u001b[0m\u001b[0mY_val_predict\u001b[0m \u001b[0;34m-\u001b[0m \u001b[0mY_val\u001b[0m\u001b[0;34m)\u001b[0m\u001b[0;34m.\u001b[0m\u001b[0msum\u001b[0m\u001b[0;34m(\u001b[0m\u001b[0maxis\u001b[0m\u001b[0;34m=\u001b[0m\u001b[0;36m1\u001b[0m\u001b[0;34m)\u001b[0m\u001b[0;34m\u001b[0m\u001b[0;34m\u001b[0m\u001b[0m\n\u001b[0m",
      "\u001b[0;31mNameError\u001b[0m: name 'Y_val_predict' is not defined"
     ]
    }
   ],
   "source": [
    "error_val = abs(Y_val_predict - Y_val).sum(axis=1)"
   ]
  },
  {
   "cell_type": "code",
   "execution_count": null,
   "metadata": {},
   "outputs": [],
   "source": []
  },
  {
   "cell_type": "code",
   "execution_count": 33,
   "metadata": {},
   "outputs": [
    {
     "output_type": "error",
     "ename": "NameError",
     "evalue": "name 'error_val' is not defined",
     "traceback": [
      "\u001b[0;31m---------------------------------------------------------------------------\u001b[0m",
      "\u001b[0;31mNameError\u001b[0m                                 Traceback (most recent call last)",
      "\u001b[0;32m<ipython-input-33-eece04c8fe0b>\u001b[0m in \u001b[0;36m<module>\u001b[0;34m\u001b[0m\n\u001b[0;32m----> 1\u001b[0;31m \u001b[0mpd\u001b[0m\u001b[0;34m.\u001b[0m\u001b[0mSeries\u001b[0m\u001b[0;34m(\u001b[0m\u001b[0merror_val\u001b[0m\u001b[0;34m)\u001b[0m\u001b[0;34m.\u001b[0m\u001b[0mplot\u001b[0m\u001b[0;34m(\u001b[0m\u001b[0;34m)\u001b[0m\u001b[0;34m\u001b[0m\u001b[0;34m\u001b[0m\u001b[0m\n\u001b[0m",
      "\u001b[0;31mNameError\u001b[0m: name 'error_val' is not defined"
     ]
    }
   ],
   "source": [
    "pd.Series(error_val).plot()"
   ]
  },
  {
   "cell_type": "code",
   "execution_count": 35,
   "metadata": {},
   "outputs": [],
   "source": [
    "label = pd.read_csv('./HAI 2.0/validation/validation.csv')['attack']"
   ]
  },
  {
   "cell_type": "code",
   "execution_count": 36,
   "metadata": {},
   "outputs": [
    {
     "output_type": "execute_result",
     "data": {
      "text/plain": "30       0\n31       0\n32       0\n33       0\n34       0\n        ..\n43196    0\n43197    0\n43198    0\n43199    0\n43200    0\nName: attack, Length: 43171, dtype: int64"
     },
     "metadata": {},
     "execution_count": 36
    }
   ],
   "source": [
    "label[30:]"
   ]
  },
  {
   "cell_type": "code",
   "execution_count": 37,
   "metadata": {},
   "outputs": [
    {
     "output_type": "error",
     "ename": "NameError",
     "evalue": "name 'error_val' is not defined",
     "traceback": [
      "\u001b[0;31m---------------------------------------------------------------------------\u001b[0m",
      "\u001b[0;31mNameError\u001b[0m                                 Traceback (most recent call last)",
      "\u001b[0;32m<ipython-input-37-f137e9ac4d1e>\u001b[0m in \u001b[0;36m<module>\u001b[0;34m\u001b[0m\n\u001b[0;32m----> 1\u001b[0;31m \u001b[0merror_val\u001b[0m\u001b[0;34m\u001b[0m\u001b[0;34m\u001b[0m\u001b[0m\n\u001b[0m",
      "\u001b[0;31mNameError\u001b[0m: name 'error_val' is not defined"
     ]
    }
   ],
   "source": [
    "error_val"
   ]
  },
  {
   "cell_type": "code",
   "execution_count": null,
   "metadata": {},
   "outputs": [],
   "source": []
  }
 ]
}